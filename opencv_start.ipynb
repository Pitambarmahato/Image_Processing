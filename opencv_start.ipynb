{
 "cells": [
  {
   "cell_type": "code",
   "execution_count": 1,
   "metadata": {},
   "outputs": [],
   "source": [
    "import numpy as np\n",
    "import cv2"
   ]
  },
  {
   "cell_type": "code",
   "execution_count": 2,
   "metadata": {},
   "outputs": [],
   "source": [
    "image = np.repeat(0, (100))"
   ]
  },
  {
   "cell_type": "code",
   "execution_count": 3,
   "metadata": {},
   "outputs": [
    {
     "data": {
      "text/plain": [
       "array([0, 0, 0, 0, 0, 0, 0, 0, 0, 0, 0, 0, 0, 0, 0, 0, 0, 0, 0, 0, 0, 0,\n",
       "       0, 0, 0, 0, 0, 0, 0, 0, 0, 0, 0, 0, 0, 0, 0, 0, 0, 0, 0, 0, 0, 0,\n",
       "       0, 0, 0, 0, 0, 0, 0, 0, 0, 0, 0, 0, 0, 0, 0, 0, 0, 0, 0, 0, 0, 0,\n",
       "       0, 0, 0, 0, 0, 0, 0, 0, 0, 0, 0, 0, 0, 0, 0, 0, 0, 0, 0, 0, 0, 0,\n",
       "       0, 0, 0, 0, 0, 0, 0, 0, 0, 0, 0, 0])"
      ]
     },
     "execution_count": 3,
     "metadata": {},
     "output_type": "execute_result"
    }
   ],
   "source": [
    "image"
   ]
  },
  {
   "cell_type": "code",
   "execution_count": 4,
   "metadata": {},
   "outputs": [],
   "source": [
    "image = image.reshape(10, 10)"
   ]
  },
  {
   "cell_type": "code",
   "execution_count": 5,
   "metadata": {},
   "outputs": [],
   "source": [
    "%matplotlib inline\n",
    "import matplotlib.pyplot as plt"
   ]
  },
  {
   "cell_type": "code",
   "execution_count": 6,
   "metadata": {},
   "outputs": [
    {
     "data": {
      "image/png": "[encoded data removed]",
      "text/plain": [
       "<Figure size 432x288 with 1 Axes>"
      ]
     },
     "metadata": {
      "needs_background": "light"
     },
     "output_type": "display_data"
    }
   ],
   "source": [
    "plt.imshow(image, cmap = 'gray')\n",
    "plt.show()"
   ]
  },
  {
   "cell_type": "code",
   "execution_count": 7,
   "metadata": {},
   "outputs": [],
   "source": [
    "image2 = np.repeat(0, (300))"
   ]
  },
  {
   "cell_type": "code",
   "execution_count": 8,
   "metadata": {},
   "outputs": [],
   "source": [
    "image2 = image2.reshape(10, 10, 3)"
   ]
  },
  {
   "cell_type": "code",
   "execution_count": 9,
   "metadata": {},
   "outputs": [
    {
     "data": {
      "image/png": "[encoded data removed]",
      "text/plain": [
       "<Figure size 432x288 with 1 Axes>"
      ]
     },
     "metadata": {
      "needs_background": "light"
     },
     "output_type": "display_data"
    }
   ],
   "source": [
    "plt.imshow(image2)\n",
    "plt.show()"
   ]
  },
  {
   "cell_type": "code",
   "execution_count": 26,
   "metadata": {},
   "outputs": [
    {
     "data": {
      "text/plain": [
       "array([1, 1, 1, 1, 1, 1, 1, 1, 1, 1, 1, 1, 1, 1, 1, 1, 1, 1, 1, 1, 1, 1,\n",
       "       1, 1, 1, 1, 1, 1, 1, 1, 1, 1, 1, 1, 1, 1, 1, 1, 1, 1, 1, 1, 1, 1,\n",
       "       1, 1, 1, 1, 1, 1, 1, 1, 1, 1, 1, 1, 1, 1, 1, 1, 1, 1, 1, 1, 1, 1,\n",
       "       1, 1, 1, 1, 1, 1, 1, 1, 1, 1, 1, 1, 1, 1, 1, 1, 1, 1, 1, 1, 1, 1,\n",
       "       1, 1, 1, 1, 1, 1, 1, 1, 1, 1, 1, 1])"
      ]
     },
     "execution_count": 26,
     "metadata": {},
     "output_type": "execute_result"
    }
   ],
   "source": [
    "image3 = np.repeat(1, (100))\n",
    "image3"
   ]
  },
  {
   "cell_type": "code",
   "execution_count": 27,
   "metadata": {},
   "outputs": [],
   "source": [
    "image3 = image3.reshape(10, 10)\n"
   ]
  },
  {
   "cell_type": "code",
   "execution_count": 32,
   "metadata": {},
   "outputs": [
    {
     "data": {
      "image/png": "[encoded data removed]",
      "text/plain": [
       "<Figure size 432x288 with 1 Axes>"
      ]
     },
     "metadata": {
      "needs_background": "light"
     },
     "output_type": "display_data"
    }
   ],
   "source": [
    "plt.imshow(image3)\n",
    "plt.show()"
   ]
  },
  {
   "cell_type": "code",
   "execution_count": 13,
   "metadata": {},
   "outputs": [],
   "source": [
    "image4 = np.random.randint(0, 255, (10, 10, 3))"
   ]
  },
  {
   "cell_type": "code",
   "execution_count": 14,
   "metadata": {},
   "outputs": [
    {
     "data": {
      "text/plain": [
       "array([[[155, 179, 117],\n",
       "        [ 95, 137, 139],\n",
       "        [212, 157, 154],\n",
       "        [ 68, 185, 185],\n",
       "        [250,   6, 206],\n",
       "        [ 29, 189,  42],\n",
       "        [136, 134,  54],\n",
       "        [ 26, 193, 169],\n",
       "        [211,  82,  36],\n",
       "        [172, 169, 204]],\n",
       "\n",
       "       [[ 78, 200, 210],\n",
       "        [ 64, 108, 120],\n",
       "        [216, 195, 190],\n",
       "        [  8, 176, 252],\n",
       "        [ 95,  10, 142],\n",
       "        [ 65,  65,  28],\n",
       "        [128, 243, 163],\n",
       "        [132, 128, 220],\n",
       "        [ 81,  93,  89],\n",
       "        [103,  46, 193]],\n",
       "\n",
       "       [[ 89, 131,  16],\n",
       "        [ 79, 240, 173],\n",
       "        [ 40, 109,  26],\n",
       "        [181, 224,   0],\n",
       "        [205, 200, 119],\n",
       "        [ 68,  78, 109],\n",
       "        [213,  37, 215],\n",
       "        [ 90,  56, 254],\n",
       "        [ 95, 130,  87],\n",
       "        [ 28,  95, 124]],\n",
       "\n",
       "       [[163,  32,  33],\n",
       "        [  2,  13,  12],\n",
       "        [199,  65,  98],\n",
       "        [179, 175,  33],\n",
       "        [190, 154, 143],\n",
       "        [209, 207,  23],\n",
       "        [143, 131, 155],\n",
       "        [220, 110, 229],\n",
       "        [ 86,  65,  79],\n",
       "        [ 70,  25, 217]],\n",
       "\n",
       "       [[200, 142, 159],\n",
       "        [ 22, 232,  97],\n",
       "        [ 46, 235, 165],\n",
       "        [233,  63, 222],\n",
       "        [175,  25,  30],\n",
       "        [207, 171, 249],\n",
       "        [124,  50, 139],\n",
       "        [ 35, 238, 165],\n",
       "        [ 81,  19, 174],\n",
       "        [149, 165,  54]],\n",
       "\n",
       "       [[186, 213, 232],\n",
       "        [243, 114,  14],\n",
       "        [150, 155, 231],\n",
       "        [ 12, 210,  36],\n",
       "        [  8, 234, 130],\n",
       "        [ 33,  56,  17],\n",
       "        [178, 109,  75],\n",
       "        [121,  61,  49],\n",
       "        [120, 227,  41],\n",
       "        [ 58, 100,  99]],\n",
       "\n",
       "       [[ 33,  41,  26],\n",
       "        [227, 152, 149],\n",
       "        [204, 107,  95],\n",
       "        [ 61,  22,  41],\n",
       "        [168, 124,  56],\n",
       "        [ 97,  71, 140],\n",
       "        [ 84, 231,  29],\n",
       "        [233, 170, 148],\n",
       "        [ 69, 170, 144],\n",
       "        [  1, 236,  90]],\n",
       "\n",
       "       [[ 72, 172,  95],\n",
       "        [ 75, 244, 237],\n",
       "        [ 54,  67, 115],\n",
       "        [ 99, 203,   3],\n",
       "        [ 10,  27,   7],\n",
       "        [ 56, 233,  71],\n",
       "        [ 45, 231, 117],\n",
       "        [193,  80, 142],\n",
       "        [227,   7,  28],\n",
       "        [109, 238, 145]],\n",
       "\n",
       "       [[ 83,  99, 148],\n",
       "        [ 92, 172, 136],\n",
       "        [179, 138, 156],\n",
       "        [206,  59, 220],\n",
       "        [185,  89,   4],\n",
       "        [247, 204, 227],\n",
       "        [125, 153, 109],\n",
       "        [190,  32, 178],\n",
       "        [ 84, 143, 134],\n",
       "        [184, 118, 243]],\n",
       "\n",
       "       [[ 37,  80, 240],\n",
       "        [148, 131, 252],\n",
       "        [209, 126, 179],\n",
       "        [195,   3,  22],\n",
       "        [160,  95,  52],\n",
       "        [ 18,  97,  86],\n",
       "        [247, 195,   0],\n",
       "        [136, 234,  77],\n",
       "        [222, 247,   0],\n",
       "        [166, 155, 146]]])"
      ]
     },
     "execution_count": 14,
     "metadata": {},
     "output_type": "execute_result"
    }
   ],
   "source": [
    "image4"
   ]
  },
  {
   "cell_type": "code",
   "execution_count": null,
   "metadata": {},
   "outputs": [],
   "source": []
  }
 ],
 "metadata": {
  "kernelspec": {
   "display_name": "Python 3",
   "language": "python",
   "name": "python3"
  },
  "language_info": {
   "codemirror_mode": {
    "name": "ipython",
    "version": 3
   },
   "file_extension": ".py",
   "mimetype": "text/x-python",
   "name": "python",
   "nbconvert_exporter": "python",
   "pygments_lexer": "ipython3",
   "version": "3.7.3"
  }
 },
 "nbformat": 4,
 "nbformat_minor": 2
}
